{
  "nbformat": 4,
  "nbformat_minor": 0,
  "metadata": {
    "colab": {
      "private_outputs": true,
      "provenance": [],
      "include_colab_link": true
    },
    "kernelspec": {
      "name": "python3",
      "display_name": "Python 3"
    },
    "language_info": {
      "name": "python"
    }
  },
  "cells": [
    {
      "cell_type": "markdown",
      "metadata": {
        "id": "view-in-github",
        "colab_type": "text"
      },
      "source": [
        "<a href=\"https://colab.research.google.com/github/washingtonquintero/ACP/blob/main/Seaborn_plotly_express.ipynb\" target=\"_parent\"><img src=\"https://colab.research.google.com/assets/colab-badge.svg\" alt=\"Open In Colab\"/></a>"
      ]
    },
    {
      "cell_type": "code",
      "execution_count": null,
      "metadata": {
        "id": "n4hLHT48q-hM"
      },
      "outputs": [],
      "source": [
        "import numpy as np\n",
        "import pandas as pd\n",
        "import seaborn as sb"
      ]
    },
    {
      "cell_type": "code",
      "source": [
        "fl=sb.load_dataset('flights')"
      ],
      "metadata": {
        "id": "RvtKKqPSrgbz"
      },
      "execution_count": null,
      "outputs": []
    },
    {
      "cell_type": "code",
      "source": [
        "fl"
      ],
      "metadata": {
        "id": "F4917gpKrt9e"
      },
      "execution_count": null,
      "outputs": []
    },
    {
      "cell_type": "code",
      "source": [
        "fl.describe()"
      ],
      "metadata": {
        "id": "Ix6cwUd2ryIg"
      },
      "execution_count": null,
      "outputs": []
    },
    {
      "cell_type": "code",
      "source": [
        "sb.relplot(data=fl,x='year',y='passengers',hue='month',kind='line')"
      ],
      "metadata": {
        "id": "W2QBuU42r6c1"
      },
      "execution_count": null,
      "outputs": []
    },
    {
      "cell_type": "code",
      "source": [
        "fl"
      ],
      "metadata": {
        "id": "WWYCmr1osUXT"
      },
      "execution_count": null,
      "outputs": []
    },
    {
      "cell_type": "code",
      "source": [
        "fl2=fl.pivot(index='year',columns='month',values='passengers')"
      ],
      "metadata": {
        "id": "H88eCrFGt1ee"
      },
      "execution_count": null,
      "outputs": []
    },
    {
      "cell_type": "code",
      "source": [
        "sb.relplot(fl2,kind='line')"
      ],
      "metadata": {
        "id": "YGgO53kdua1M"
      },
      "execution_count": null,
      "outputs": []
    },
    {
      "cell_type": "code",
      "source": [
        "sb.relplot(fl2.T,kind='line')"
      ],
      "metadata": {
        "id": "3sGZwXxlusrO"
      },
      "execution_count": null,
      "outputs": []
    },
    {
      "cell_type": "code",
      "source": [
        "pd.DataFrame(fl.groupby('year'))[1][5]"
      ],
      "metadata": {
        "id": "PxYkyohVu2gG"
      },
      "execution_count": null,
      "outputs": []
    },
    {
      "cell_type": "code",
      "source": [
        "sb.relplot(fl.groupby('year').mean(numeric_only=True),kind='line')"
      ],
      "metadata": {
        "id": "E0rYln1DvoBN"
      },
      "execution_count": null,
      "outputs": []
    },
    {
      "cell_type": "code",
      "source": [
        "import plotly.express as px"
      ],
      "metadata": {
        "id": "uRzICfFcwJgz"
      },
      "execution_count": null,
      "outputs": []
    },
    {
      "cell_type": "code",
      "source": [
        "fig=px.line(x=np.arange(-4,4,0.01),y=np.sin(np.arange(-4,4,0.01)))"
      ],
      "metadata": {
        "id": "Pp2myy9owkHx"
      },
      "execution_count": null,
      "outputs": []
    },
    {
      "cell_type": "code",
      "source": [
        "fig.show()"
      ],
      "metadata": {
        "id": "Qy4g8xwpxF4U"
      },
      "execution_count": null,
      "outputs": []
    },
    {
      "cell_type": "code",
      "source": [
        "iris=px.data.iris()"
      ],
      "metadata": {
        "id": "qGhfIVxBxOU6"
      },
      "execution_count": null,
      "outputs": []
    },
    {
      "cell_type": "code",
      "source": [
        "iris"
      ],
      "metadata": {
        "id": "5DMWvGlvxtW0"
      },
      "execution_count": null,
      "outputs": []
    },
    {
      "cell_type": "code",
      "source": [
        "px.line(iris,x='sepal_width',y='sepal_length',color='species').show()"
      ],
      "metadata": {
        "id": "7I_TBHb8xufT"
      },
      "execution_count": null,
      "outputs": []
    },
    {
      "cell_type": "code",
      "source": [
        "px.scatter(iris,x='petal_width',y='petal_length',color='species').show()"
      ],
      "metadata": {
        "id": "dLUEqxJB1LXu"
      },
      "execution_count": null,
      "outputs": []
    },
    {
      "cell_type": "code",
      "source": [
        "px.scatter(iris,x='sepal_width',y='sepal_length',color='species').show()"
      ],
      "metadata": {
        "id": "qR_7_vW31L4j"
      },
      "execution_count": null,
      "outputs": []
    },
    {
      "cell_type": "code",
      "source": [
        "px.bar(iris,x='species',y='petal_width').show()"
      ],
      "metadata": {
        "id": "2EP7cMDP07dh"
      },
      "execution_count": null,
      "outputs": []
    },
    {
      "cell_type": "code",
      "source": [
        "px.histogram(iris,x='species',y='petal_length').show()"
      ],
      "metadata": {
        "id": "qu40Uq6X2TYM"
      },
      "execution_count": null,
      "outputs": []
    },
    {
      "cell_type": "code",
      "source": [
        "px.histogram(iris,x='sepal_width',y='sepal_length',color='species').show()"
      ],
      "metadata": {
        "id": "PrekAT1w2nJY"
      },
      "execution_count": null,
      "outputs": []
    },
    {
      "cell_type": "code",
      "source": [
        "tips=px.data.tips()"
      ],
      "metadata": {
        "id": "KC9uCtnn259Q"
      },
      "execution_count": null,
      "outputs": []
    },
    {
      "cell_type": "code",
      "source": [
        "px.pie(tips,values='tip',names='day').show()"
      ],
      "metadata": {
        "id": "7fx4OUQx3IW3"
      },
      "execution_count": null,
      "outputs": []
    },
    {
      "cell_type": "code",
      "source": [
        "px.violin(tips,x='day',y='total_bill').show()"
      ],
      "metadata": {
        "id": "L_n71Tib3ZbE"
      },
      "execution_count": null,
      "outputs": []
    },
    {
      "cell_type": "code",
      "source": [
        "gap=px.data.gapminder()"
      ],
      "metadata": {
        "id": "10BnT4n63yYI"
      },
      "execution_count": null,
      "outputs": []
    },
    {
      "cell_type": "code",
      "source": [
        "gap"
      ],
      "metadata": {
        "id": "2jUTQKLr4UXe"
      },
      "execution_count": null,
      "outputs": []
    },
    {
      "cell_type": "code",
      "source": [],
      "metadata": {
        "id": "ytj-QGSr46cm"
      },
      "execution_count": null,
      "outputs": []
    },
    {
      "cell_type": "code",
      "source": [
        "px.scatter(gap,x='gdpPercap',y='lifeExp',size='pop',color='continent',log_x=True,\n",
        "           hover_name='country',size_max=55,range_x=[100,100000],range_y=[25,90],\n",
        "           animation_frame='year',animation_group='country').show()"
      ],
      "metadata": {
        "id": "oQOqZmpo4VKe"
      },
      "execution_count": null,
      "outputs": []
    },
    {
      "cell_type": "code",
      "source": [
        "g2=px.bar(gap,x='continent',y='pop',color='continent',animation_frame='year',animation_group='country',range_y=[0,4000000000])\n",
        "g2.show()"
      ],
      "metadata": {
        "id": "Q4777ojq45vl"
      },
      "execution_count": null,
      "outputs": []
    },
    {
      "cell_type": "code",
      "source": [],
      "metadata": {
        "id": "gfCCwGDS9Xfk"
      },
      "execution_count": null,
      "outputs": []
    }
  ]
}